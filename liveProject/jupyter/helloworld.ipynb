{
 "cells": [
  {
   "cell_type": "code",
   "execution_count": 2,
   "id": "3660e605",
   "metadata": {},
   "outputs": [
    {
     "name": "stdout",
     "output_type": "stream",
     "text": [
      "helloworld\n"
     ]
    }
   ],
   "source": [
    "print(\"helloworld\")\n",
    "import pandas as pd \n"
   ]
  },
  {
   "cell_type": "code",
   "execution_count": 3,
   "id": "279ffc3a",
   "metadata": {},
   "outputs": [
    {
     "name": "stdout",
     "output_type": "stream",
     "text": [
      "           mean        sd\n",
      "0     -0.157953 -0.106749\n",
      "1     -0.157953 -0.106749\n",
      "2     -0.157953 -0.106242\n",
      "3     -0.284889 -0.106749\n",
      "4     -0.157953 -0.106242\n",
      "...         ...       ...\n",
      "16052 -0.157953 -0.106242\n",
      "16053 -0.157953 -0.106242\n",
      "16054 -0.038950  0.020446\n",
      "16055 -0.157953 -0.106242\n",
      "16056 -0.157953 -0.106749\n",
      "\n",
      "[16057 rows x 2 columns]\n"
     ]
    }
   ],
   "source": [
    "data = pd.read_csv('test.csv')\n",
    "print(data)"
   ]
  },
  {
   "cell_type": "code",
   "execution_count": null,
   "id": "591074f1",
   "metadata": {},
   "outputs": [],
   "source": []
  }
 ],
 "metadata": {
  "kernelspec": {
   "display_name": "Python 3 (ipykernel)",
   "language": "python",
   "name": "python3"
  },
  "language_info": {
   "codemirror_mode": {
    "name": "ipython",
    "version": 3
   },
   "file_extension": ".py",
   "mimetype": "text/x-python",
   "name": "python",
   "nbconvert_exporter": "python",
   "pygments_lexer": "ipython3",
   "version": "3.7.12"
  }
 },
 "nbformat": 4,
 "nbformat_minor": 5
}
